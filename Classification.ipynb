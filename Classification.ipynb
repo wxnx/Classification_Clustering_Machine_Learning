{
  "nbformat": 4,
  "nbformat_minor": 0,
  "metadata": {
    "colab": {
      "name": "Classification.ipynb",
      "provenance": [],
      "collapsed_sections": []
    },
    "kernelspec": {
      "name": "python3",
      "display_name": "Python 3"
    }
  },
  "cells": [
    {
      "cell_type": "markdown",
      "metadata": {
        "id": "giVbWfV15jbR",
        "colab_type": "text"
      },
      "source": [
        "#Import Packages"
      ]
    },
    {
      "cell_type": "code",
      "metadata": {
        "id": "7ll3ONJDh0x1",
        "colab_type": "code",
        "colab": {}
      },
      "source": [
        "import pandas as pd\n",
        "import matplotlib.pyplot as plt\n",
        "import seaborn as sns\n",
        "import numpy as np\n",
        "from sklearn.model_selection import train_test_split\n",
        "from  sklearn.neighbors import KNeighborsClassifier\n",
        "from sklearn.svm import SVC\n",
        "from sklearn.naive_bayes import GaussianNB\n",
        "from sklearn.tree import DecisionTreeClassifier\n",
        "from sklearn.ensemble import RandomForestClassifier"
      ],
      "execution_count": 0,
      "outputs": []
    },
    {
      "cell_type": "markdown",
      "metadata": {
        "id": "bYPWWVHP5rjd",
        "colab_type": "text"
      },
      "source": [
        "#Import Data"
      ]
    },
    {
      "cell_type": "markdown",
      "metadata": {
        "id": "8_lhIleQfFKt",
        "colab_type": "text"
      },
      "source": [
        "#####Load Dataset"
      ]
    },
    {
      "cell_type": "code",
      "metadata": {
        "id": "4OwM42n0jYYs",
        "colab_type": "code",
        "colab": {}
      },
      "source": [
        "data = pd.read_csv('air_bnb.csv')"
      ],
      "execution_count": 0,
      "outputs": []
    },
    {
      "cell_type": "markdown",
      "metadata": {
        "id": "PElFMX4VfJq2",
        "colab_type": "text"
      },
      "source": [
        "#####Observasi Dataset"
      ]
    },
    {
      "cell_type": "markdown",
      "metadata": {
        "id": "fnfpa4TrHGm7",
        "colab_type": "text"
      },
      "source": [
        "\n",
        "\n",
        "*   Mengecek fitur data dan kelas\n",
        "\n",
        "\n"
      ]
    },
    {
      "cell_type": "code",
      "metadata": {
        "id": "igVMzX5sjypU",
        "colab_type": "code",
        "outputId": "bbdc22f5-ca0e-41db-bfe3-6a296053bb5a",
        "colab": {
          "base_uri": "https://localhost:8080/",
          "height": 417
        }
      },
      "source": [
        "data.head()"
      ],
      "execution_count": 312,
      "outputs": [
        {
          "output_type": "execute_result",
          "data": {
            "text/html": [
              "<div>\n",
              "<style scoped>\n",
              "    .dataframe tbody tr th:only-of-type {\n",
              "        vertical-align: middle;\n",
              "    }\n",
              "\n",
              "    .dataframe tbody tr th {\n",
              "        vertical-align: top;\n",
              "    }\n",
              "\n",
              "    .dataframe thead th {\n",
              "        text-align: right;\n",
              "    }\n",
              "</style>\n",
              "<table border=\"1\" class=\"dataframe\">\n",
              "  <thead>\n",
              "    <tr style=\"text-align: right;\">\n",
              "      <th></th>\n",
              "      <th>id</th>\n",
              "      <th>name</th>\n",
              "      <th>host_id</th>\n",
              "      <th>host_name</th>\n",
              "      <th>neighbourhood_group</th>\n",
              "      <th>neighbourhood</th>\n",
              "      <th>latitude</th>\n",
              "      <th>longitude</th>\n",
              "      <th>room_type</th>\n",
              "      <th>price</th>\n",
              "      <th>minimum_nights</th>\n",
              "      <th>number_of_reviews</th>\n",
              "      <th>last_review</th>\n",
              "      <th>reviews_per_month</th>\n",
              "      <th>calculated_host_listings_count</th>\n",
              "      <th>availability_365</th>\n",
              "    </tr>\n",
              "  </thead>\n",
              "  <tbody>\n",
              "    <tr>\n",
              "      <th>0</th>\n",
              "      <td>2015</td>\n",
              "      <td>Berlin-Mitte Value! Quiet courtyard/very central</td>\n",
              "      <td>2217</td>\n",
              "      <td>Ian</td>\n",
              "      <td>Mitte</td>\n",
              "      <td>Brunnenstr. Süd</td>\n",
              "      <td>52.534537</td>\n",
              "      <td>13.402557</td>\n",
              "      <td>Entire home/apt</td>\n",
              "      <td>60</td>\n",
              "      <td>4</td>\n",
              "      <td>118</td>\n",
              "      <td>2018-10-28</td>\n",
              "      <td>3.76</td>\n",
              "      <td>4</td>\n",
              "      <td>141</td>\n",
              "    </tr>\n",
              "    <tr>\n",
              "      <th>1</th>\n",
              "      <td>2695</td>\n",
              "      <td>Prenzlauer Berg close to Mauerpark</td>\n",
              "      <td>2986</td>\n",
              "      <td>Michael</td>\n",
              "      <td>Pankow</td>\n",
              "      <td>Prenzlauer Berg Nordwest</td>\n",
              "      <td>52.548513</td>\n",
              "      <td>13.404553</td>\n",
              "      <td>Private room</td>\n",
              "      <td>17</td>\n",
              "      <td>2</td>\n",
              "      <td>6</td>\n",
              "      <td>2018-10-01</td>\n",
              "      <td>1.42</td>\n",
              "      <td>1</td>\n",
              "      <td>0</td>\n",
              "    </tr>\n",
              "    <tr>\n",
              "      <th>2</th>\n",
              "      <td>3176</td>\n",
              "      <td>Fabulous Flat in great Location</td>\n",
              "      <td>3718</td>\n",
              "      <td>Britta</td>\n",
              "      <td>Pankow</td>\n",
              "      <td>Prenzlauer Berg Südwest</td>\n",
              "      <td>52.534996</td>\n",
              "      <td>13.417579</td>\n",
              "      <td>Entire home/apt</td>\n",
              "      <td>90</td>\n",
              "      <td>62</td>\n",
              "      <td>143</td>\n",
              "      <td>2017-03-20</td>\n",
              "      <td>1.25</td>\n",
              "      <td>1</td>\n",
              "      <td>220</td>\n",
              "    </tr>\n",
              "    <tr>\n",
              "      <th>3</th>\n",
              "      <td>3309</td>\n",
              "      <td>BerlinSpot Schöneberg near KaDeWe</td>\n",
              "      <td>4108</td>\n",
              "      <td>Jana</td>\n",
              "      <td>Tempelhof - Schöneberg</td>\n",
              "      <td>Schöneberg-Nord</td>\n",
              "      <td>52.498855</td>\n",
              "      <td>13.349065</td>\n",
              "      <td>Private room</td>\n",
              "      <td>26</td>\n",
              "      <td>5</td>\n",
              "      <td>25</td>\n",
              "      <td>2018-08-16</td>\n",
              "      <td>0.39</td>\n",
              "      <td>1</td>\n",
              "      <td>297</td>\n",
              "    </tr>\n",
              "    <tr>\n",
              "      <th>4</th>\n",
              "      <td>7071</td>\n",
              "      <td>BrightRoom with sunny greenview!</td>\n",
              "      <td>17391</td>\n",
              "      <td>Bright</td>\n",
              "      <td>Pankow</td>\n",
              "      <td>Helmholtzplatz</td>\n",
              "      <td>52.543157</td>\n",
              "      <td>13.415091</td>\n",
              "      <td>Private room</td>\n",
              "      <td>42</td>\n",
              "      <td>2</td>\n",
              "      <td>197</td>\n",
              "      <td>2018-11-04</td>\n",
              "      <td>1.75</td>\n",
              "      <td>1</td>\n",
              "      <td>26</td>\n",
              "    </tr>\n",
              "  </tbody>\n",
              "</table>\n",
              "</div>"
            ],
            "text/plain": [
              "     id  ... availability_365\n",
              "0  2015  ...              141\n",
              "1  2695  ...                0\n",
              "2  3176  ...              220\n",
              "3  3309  ...              297\n",
              "4  7071  ...               26\n",
              "\n",
              "[5 rows x 16 columns]"
            ]
          },
          "metadata": {
            "tags": []
          },
          "execution_count": 312
        }
      ]
    },
    {
      "cell_type": "markdown",
      "metadata": {
        "id": "Z-oZJX-KHfzj",
        "colab_type": "text"
      },
      "source": [
        "\n",
        "\n",
        "*   Mengecek deskripsi kolom data\n",
        "\n"
      ]
    },
    {
      "cell_type": "code",
      "metadata": {
        "id": "QFRPvTZkkO6A",
        "colab_type": "code",
        "outputId": "8acdbd21-6079-4e8d-e65f-1823608e75eb",
        "colab": {
          "base_uri": "https://localhost:8080/",
          "height": 300
        }
      },
      "source": [
        "data.describe()"
      ],
      "execution_count": 313,
      "outputs": [
        {
          "output_type": "execute_result",
          "data": {
            "text/html": [
              "<div>\n",
              "<style scoped>\n",
              "    .dataframe tbody tr th:only-of-type {\n",
              "        vertical-align: middle;\n",
              "    }\n",
              "\n",
              "    .dataframe tbody tr th {\n",
              "        vertical-align: top;\n",
              "    }\n",
              "\n",
              "    .dataframe thead th {\n",
              "        text-align: right;\n",
              "    }\n",
              "</style>\n",
              "<table border=\"1\" class=\"dataframe\">\n",
              "  <thead>\n",
              "    <tr style=\"text-align: right;\">\n",
              "      <th></th>\n",
              "      <th>id</th>\n",
              "      <th>host_id</th>\n",
              "      <th>latitude</th>\n",
              "      <th>longitude</th>\n",
              "      <th>price</th>\n",
              "      <th>minimum_nights</th>\n",
              "      <th>number_of_reviews</th>\n",
              "      <th>reviews_per_month</th>\n",
              "      <th>calculated_host_listings_count</th>\n",
              "      <th>availability_365</th>\n",
              "    </tr>\n",
              "  </thead>\n",
              "  <tbody>\n",
              "    <tr>\n",
              "      <th>count</th>\n",
              "      <td>2.255200e+04</td>\n",
              "      <td>2.255200e+04</td>\n",
              "      <td>22552.000000</td>\n",
              "      <td>22552.000000</td>\n",
              "      <td>22552.000000</td>\n",
              "      <td>22552.000000</td>\n",
              "      <td>22552.000000</td>\n",
              "      <td>18638.000000</td>\n",
              "      <td>22552.000000</td>\n",
              "      <td>22552.000000</td>\n",
              "    </tr>\n",
              "    <tr>\n",
              "      <th>mean</th>\n",
              "      <td>1.571560e+07</td>\n",
              "      <td>5.403355e+07</td>\n",
              "      <td>52.509824</td>\n",
              "      <td>13.406107</td>\n",
              "      <td>67.143668</td>\n",
              "      <td>7.157059</td>\n",
              "      <td>17.840679</td>\n",
              "      <td>1.135525</td>\n",
              "      <td>1.918233</td>\n",
              "      <td>79.852829</td>\n",
              "    </tr>\n",
              "    <tr>\n",
              "      <th>std</th>\n",
              "      <td>8.552069e+06</td>\n",
              "      <td>5.816290e+07</td>\n",
              "      <td>0.030825</td>\n",
              "      <td>0.057964</td>\n",
              "      <td>220.266210</td>\n",
              "      <td>40.665073</td>\n",
              "      <td>36.769624</td>\n",
              "      <td>1.507082</td>\n",
              "      <td>3.667257</td>\n",
              "      <td>119.368162</td>\n",
              "    </tr>\n",
              "    <tr>\n",
              "      <th>min</th>\n",
              "      <td>2.015000e+03</td>\n",
              "      <td>2.217000e+03</td>\n",
              "      <td>52.345803</td>\n",
              "      <td>13.103557</td>\n",
              "      <td>0.000000</td>\n",
              "      <td>1.000000</td>\n",
              "      <td>0.000000</td>\n",
              "      <td>0.010000</td>\n",
              "      <td>1.000000</td>\n",
              "      <td>0.000000</td>\n",
              "    </tr>\n",
              "    <tr>\n",
              "      <th>25%</th>\n",
              "      <td>8.065954e+06</td>\n",
              "      <td>9.240002e+06</td>\n",
              "      <td>52.489065</td>\n",
              "      <td>13.375411</td>\n",
              "      <td>30.000000</td>\n",
              "      <td>2.000000</td>\n",
              "      <td>1.000000</td>\n",
              "      <td>0.180000</td>\n",
              "      <td>1.000000</td>\n",
              "      <td>0.000000</td>\n",
              "    </tr>\n",
              "    <tr>\n",
              "      <th>50%</th>\n",
              "      <td>1.686638e+07</td>\n",
              "      <td>3.126711e+07</td>\n",
              "      <td>52.509079</td>\n",
              "      <td>13.416779</td>\n",
              "      <td>45.000000</td>\n",
              "      <td>2.000000</td>\n",
              "      <td>5.000000</td>\n",
              "      <td>0.540000</td>\n",
              "      <td>1.000000</td>\n",
              "      <td>4.000000</td>\n",
              "    </tr>\n",
              "    <tr>\n",
              "      <th>75%</th>\n",
              "      <td>2.258393e+07</td>\n",
              "      <td>8.067518e+07</td>\n",
              "      <td>52.532669</td>\n",
              "      <td>13.439259</td>\n",
              "      <td>70.000000</td>\n",
              "      <td>4.000000</td>\n",
              "      <td>16.000000</td>\n",
              "      <td>1.500000</td>\n",
              "      <td>1.000000</td>\n",
              "      <td>129.000000</td>\n",
              "    </tr>\n",
              "    <tr>\n",
              "      <th>max</th>\n",
              "      <td>2.986735e+07</td>\n",
              "      <td>2.245081e+08</td>\n",
              "      <td>52.651670</td>\n",
              "      <td>13.757642</td>\n",
              "      <td>9000.000000</td>\n",
              "      <td>5000.000000</td>\n",
              "      <td>498.000000</td>\n",
              "      <td>36.670000</td>\n",
              "      <td>45.000000</td>\n",
              "      <td>365.000000</td>\n",
              "    </tr>\n",
              "  </tbody>\n",
              "</table>\n",
              "</div>"
            ],
            "text/plain": [
              "                 id  ...  availability_365\n",
              "count  2.255200e+04  ...      22552.000000\n",
              "mean   1.571560e+07  ...         79.852829\n",
              "std    8.552069e+06  ...        119.368162\n",
              "min    2.015000e+03  ...          0.000000\n",
              "25%    8.065954e+06  ...          0.000000\n",
              "50%    1.686638e+07  ...          4.000000\n",
              "75%    2.258393e+07  ...        129.000000\n",
              "max    2.986735e+07  ...        365.000000\n",
              "\n",
              "[8 rows x 10 columns]"
            ]
          },
          "metadata": {
            "tags": []
          },
          "execution_count": 313
        }
      ]
    },
    {
      "cell_type": "markdown",
      "metadata": {
        "id": "XLJ3CyiqHsw1",
        "colab_type": "text"
      },
      "source": [
        "\n",
        "\n",
        "*   Mengecek info data\n"
      ]
    },
    {
      "cell_type": "code",
      "metadata": {
        "id": "CrefhFem4GM7",
        "colab_type": "code",
        "outputId": "f5e087c8-fd2c-4ac1-f00b-fdea63df8d98",
        "colab": {
          "base_uri": "https://localhost:8080/",
          "height": 416
        }
      },
      "source": [
        "data.info()"
      ],
      "execution_count": 314,
      "outputs": [
        {
          "output_type": "stream",
          "text": [
            "<class 'pandas.core.frame.DataFrame'>\n",
            "RangeIndex: 22552 entries, 0 to 22551\n",
            "Data columns (total 16 columns):\n",
            " #   Column                          Non-Null Count  Dtype  \n",
            "---  ------                          --------------  -----  \n",
            " 0   id                              22552 non-null  int64  \n",
            " 1   name                            22493 non-null  object \n",
            " 2   host_id                         22552 non-null  int64  \n",
            " 3   host_name                       22526 non-null  object \n",
            " 4   neighbourhood_group             22552 non-null  object \n",
            " 5   neighbourhood                   22552 non-null  object \n",
            " 6   latitude                        22552 non-null  float64\n",
            " 7   longitude                       22552 non-null  float64\n",
            " 8   room_type                       22552 non-null  object \n",
            " 9   price                           22552 non-null  int64  \n",
            " 10  minimum_nights                  22552 non-null  int64  \n",
            " 11  number_of_reviews               22552 non-null  int64  \n",
            " 12  last_review                     18644 non-null  object \n",
            " 13  reviews_per_month               18638 non-null  float64\n",
            " 14  calculated_host_listings_count  22552 non-null  int64  \n",
            " 15  availability_365                22552 non-null  int64  \n",
            "dtypes: float64(3), int64(7), object(6)\n",
            "memory usage: 2.8+ MB\n"
          ],
          "name": "stdout"
        }
      ]
    },
    {
      "cell_type": "markdown",
      "metadata": {
        "id": "QfygI-gBH2Di",
        "colab_type": "text"
      },
      "source": [
        "\n",
        "\n",
        "*   Mengecek/menemukan data unique\n",
        "\n"
      ]
    },
    {
      "cell_type": "code",
      "metadata": {
        "id": "bC-lbGn0f5EA",
        "colab_type": "code",
        "outputId": "765df6d8-0184-47b7-e3a4-86c2a794a5c6",
        "colab": {
          "base_uri": "https://localhost:8080/",
          "height": 504
        }
      },
      "source": [
        "data.tail()"
      ],
      "execution_count": 315,
      "outputs": [
        {
          "output_type": "execute_result",
          "data": {
            "text/html": [
              "<div>\n",
              "<style scoped>\n",
              "    .dataframe tbody tr th:only-of-type {\n",
              "        vertical-align: middle;\n",
              "    }\n",
              "\n",
              "    .dataframe tbody tr th {\n",
              "        vertical-align: top;\n",
              "    }\n",
              "\n",
              "    .dataframe thead th {\n",
              "        text-align: right;\n",
              "    }\n",
              "</style>\n",
              "<table border=\"1\" class=\"dataframe\">\n",
              "  <thead>\n",
              "    <tr style=\"text-align: right;\">\n",
              "      <th></th>\n",
              "      <th>id</th>\n",
              "      <th>name</th>\n",
              "      <th>host_id</th>\n",
              "      <th>host_name</th>\n",
              "      <th>neighbourhood_group</th>\n",
              "      <th>neighbourhood</th>\n",
              "      <th>latitude</th>\n",
              "      <th>longitude</th>\n",
              "      <th>room_type</th>\n",
              "      <th>price</th>\n",
              "      <th>minimum_nights</th>\n",
              "      <th>number_of_reviews</th>\n",
              "      <th>last_review</th>\n",
              "      <th>reviews_per_month</th>\n",
              "      <th>calculated_host_listings_count</th>\n",
              "      <th>availability_365</th>\n",
              "    </tr>\n",
              "  </thead>\n",
              "  <tbody>\n",
              "    <tr>\n",
              "      <th>22547</th>\n",
              "      <td>29856708</td>\n",
              "      <td>Cozy Apartment right in the center of Berlin</td>\n",
              "      <td>87555909</td>\n",
              "      <td>Ulisses</td>\n",
              "      <td>Mitte</td>\n",
              "      <td>Brunnenstr. Süd</td>\n",
              "      <td>52.533865</td>\n",
              "      <td>13.400731</td>\n",
              "      <td>Entire home/apt</td>\n",
              "      <td>60</td>\n",
              "      <td>2</td>\n",
              "      <td>0</td>\n",
              "      <td>NaN</td>\n",
              "      <td>NaN</td>\n",
              "      <td>1</td>\n",
              "      <td>314</td>\n",
              "    </tr>\n",
              "    <tr>\n",
              "      <th>22548</th>\n",
              "      <td>29857108</td>\n",
              "      <td>Altbau/ Schöneberger Kiez / Schlafsofa</td>\n",
              "      <td>67537363</td>\n",
              "      <td>Jörg</td>\n",
              "      <td>Tempelhof - Schöneberg</td>\n",
              "      <td>Schöneberg-Nord</td>\n",
              "      <td>52.496211</td>\n",
              "      <td>13.341738</td>\n",
              "      <td>Shared room</td>\n",
              "      <td>20</td>\n",
              "      <td>1</td>\n",
              "      <td>0</td>\n",
              "      <td>NaN</td>\n",
              "      <td>NaN</td>\n",
              "      <td>6</td>\n",
              "      <td>78</td>\n",
              "    </tr>\n",
              "    <tr>\n",
              "      <th>22549</th>\n",
              "      <td>29864272</td>\n",
              "      <td>Artists loft with garden in the center of Berlin</td>\n",
              "      <td>3146923</td>\n",
              "      <td>Martin</td>\n",
              "      <td>Pankow</td>\n",
              "      <td>Prenzlauer Berg Südwest</td>\n",
              "      <td>52.531800</td>\n",
              "      <td>13.411999</td>\n",
              "      <td>Entire home/apt</td>\n",
              "      <td>85</td>\n",
              "      <td>3</td>\n",
              "      <td>0</td>\n",
              "      <td>NaN</td>\n",
              "      <td>NaN</td>\n",
              "      <td>2</td>\n",
              "      <td>15</td>\n",
              "    </tr>\n",
              "    <tr>\n",
              "      <th>22550</th>\n",
              "      <td>29866805</td>\n",
              "      <td>Room for two with private shower / WC</td>\n",
              "      <td>36961901</td>\n",
              "      <td>Arte Luise</td>\n",
              "      <td>Mitte</td>\n",
              "      <td>Alexanderplatz</td>\n",
              "      <td>52.520802</td>\n",
              "      <td>13.378688</td>\n",
              "      <td>Private room</td>\n",
              "      <td>99</td>\n",
              "      <td>1</td>\n",
              "      <td>0</td>\n",
              "      <td>NaN</td>\n",
              "      <td>NaN</td>\n",
              "      <td>3</td>\n",
              "      <td>6</td>\n",
              "    </tr>\n",
              "    <tr>\n",
              "      <th>22551</th>\n",
              "      <td>29867352</td>\n",
              "      <td>Sunny, modern and cozy flat in Berlin Neukölln :)</td>\n",
              "      <td>177464875</td>\n",
              "      <td>Sebastian</td>\n",
              "      <td>Neukölln</td>\n",
              "      <td>Schillerpromenade</td>\n",
              "      <td>52.473762</td>\n",
              "      <td>13.424447</td>\n",
              "      <td>Private room</td>\n",
              "      <td>45</td>\n",
              "      <td>5</td>\n",
              "      <td>0</td>\n",
              "      <td>NaN</td>\n",
              "      <td>NaN</td>\n",
              "      <td>1</td>\n",
              "      <td>21</td>\n",
              "    </tr>\n",
              "  </tbody>\n",
              "</table>\n",
              "</div>"
            ],
            "text/plain": [
              "             id  ... availability_365\n",
              "22547  29856708  ...              314\n",
              "22548  29857108  ...               78\n",
              "22549  29864272  ...               15\n",
              "22550  29866805  ...                6\n",
              "22551  29867352  ...               21\n",
              "\n",
              "[5 rows x 16 columns]"
            ]
          },
          "metadata": {
            "tags": []
          },
          "execution_count": 315
        }
      ]
    },
    {
      "cell_type": "markdown",
      "metadata": {
        "id": "Ch_Nj6i7H97x",
        "colab_type": "text"
      },
      "source": [
        "\n",
        "\n",
        "*   Menampilkan data unique\n",
        "\n"
      ]
    },
    {
      "cell_type": "code",
      "metadata": {
        "id": "DAUTQPhA4V7r",
        "colab_type": "code",
        "outputId": "0f3a1142-64f1-4085-bb6c-6ec9e900ebd2",
        "colab": {
          "base_uri": "https://localhost:8080/",
          "height": 52
        }
      },
      "source": [
        "print(\"Room Type\")\n",
        "print(data['room_type'].unique())"
      ],
      "execution_count": 316,
      "outputs": [
        {
          "output_type": "stream",
          "text": [
            "Room Type\n",
            "['Entire home/apt' 'Private room' 'Shared room']\n"
          ],
          "name": "stdout"
        }
      ]
    },
    {
      "cell_type": "markdown",
      "metadata": {
        "id": "iDyFNUsC5yfV",
        "colab_type": "text"
      },
      "source": [
        "#Data Cleansing"
      ]
    },
    {
      "cell_type": "markdown",
      "metadata": {
        "id": "W8V3BYiQiax9",
        "colab_type": "text"
      },
      "source": [
        "#####Memperbaiki data yang duplicate, NaN, Null"
      ]
    },
    {
      "cell_type": "markdown",
      "metadata": {
        "id": "--yPgF-fIKe4",
        "colab_type": "text"
      },
      "source": [
        "\n",
        "\n",
        "*   Mengecek data duplikat\n",
        "\n"
      ]
    },
    {
      "cell_type": "code",
      "metadata": {
        "id": "v3sFbLGtryxv",
        "colab_type": "code",
        "outputId": "cfb45664-9e2f-4d7f-b300-eda6dcf6284a",
        "colab": {
          "base_uri": "https://localhost:8080/",
          "height": 52
        }
      },
      "source": [
        "print(f'Duplicate : {data.duplicated().sum()}')\n",
        "data[~data.duplicated()].shape"
      ],
      "execution_count": 317,
      "outputs": [
        {
          "output_type": "stream",
          "text": [
            "Duplicate : 0\n"
          ],
          "name": "stdout"
        },
        {
          "output_type": "execute_result",
          "data": {
            "text/plain": [
              "(22552, 16)"
            ]
          },
          "metadata": {
            "tags": []
          },
          "execution_count": 317
        }
      ]
    },
    {
      "cell_type": "markdown",
      "metadata": {
        "id": "MopUkD1TIRTm",
        "colab_type": "text"
      },
      "source": [
        "\n",
        "\n",
        "*   Mengecek data NaN, Null\n"
      ]
    },
    {
      "cell_type": "code",
      "metadata": {
        "id": "lF16omqg50Sq",
        "colab_type": "code",
        "outputId": "3b32e00f-6c1d-4dd1-85d7-317ec954188f",
        "colab": {
          "base_uri": "https://localhost:8080/",
          "height": 312
        }
      },
      "source": [
        "data.isna().sum()"
      ],
      "execution_count": 318,
      "outputs": [
        {
          "output_type": "execute_result",
          "data": {
            "text/plain": [
              "id                                   0\n",
              "name                                59\n",
              "host_id                              0\n",
              "host_name                           26\n",
              "neighbourhood_group                  0\n",
              "neighbourhood                        0\n",
              "latitude                             0\n",
              "longitude                            0\n",
              "room_type                            0\n",
              "price                                0\n",
              "minimum_nights                       0\n",
              "number_of_reviews                    0\n",
              "last_review                       3908\n",
              "reviews_per_month                 3914\n",
              "calculated_host_listings_count       0\n",
              "availability_365                     0\n",
              "dtype: int64"
            ]
          },
          "metadata": {
            "tags": []
          },
          "execution_count": 318
        }
      ]
    },
    {
      "cell_type": "markdown",
      "metadata": {
        "id": "ZJ8KcBUSIfA7",
        "colab_type": "text"
      },
      "source": [
        "\n",
        "\n",
        "*   Menghapus kolom\n",
        "\n"
      ]
    },
    {
      "cell_type": "code",
      "metadata": {
        "id": "AGs4WDzx65xg",
        "colab_type": "code",
        "colab": {}
      },
      "source": [
        "data.drop(['host_name'], axis = 1, inplace = True)\n",
        "data.drop(['last_review'], axis = 1, inplace = True)"
      ],
      "execution_count": 0,
      "outputs": []
    },
    {
      "cell_type": "markdown",
      "metadata": {
        "id": "Xp-G3s-IIoT2",
        "colab_type": "text"
      },
      "source": [
        "\n",
        "\n",
        "*   Memperbaiki/mengganti values data\n",
        "\n"
      ]
    },
    {
      "cell_type": "code",
      "metadata": {
        "id": "8bQX_8xcmB1v",
        "colab_type": "code",
        "colab": {}
      },
      "source": [
        "data.fillna({'reviews_per_month':0}, inplace=True) \n",
        "data.fillna({'name':0}, inplace=True) "
      ],
      "execution_count": 0,
      "outputs": []
    },
    {
      "cell_type": "markdown",
      "metadata": {
        "id": "ssJ9aGjqIv9i",
        "colab_type": "text"
      },
      "source": [
        "\n",
        "\n",
        "*   Mengecek kembali apakah masih ada data yang NaN, Null\n",
        "\n"
      ]
    },
    {
      "cell_type": "code",
      "metadata": {
        "id": "Jt4XHXWIFBxi",
        "colab_type": "code",
        "outputId": "924862b8-522a-4074-c401-924bda56fd4c",
        "colab": {
          "base_uri": "https://localhost:8080/",
          "height": 278
        }
      },
      "source": [
        "data.isna().sum()"
      ],
      "execution_count": 321,
      "outputs": [
        {
          "output_type": "execute_result",
          "data": {
            "text/plain": [
              "id                                0\n",
              "name                              0\n",
              "host_id                           0\n",
              "neighbourhood_group               0\n",
              "neighbourhood                     0\n",
              "latitude                          0\n",
              "longitude                         0\n",
              "room_type                         0\n",
              "price                             0\n",
              "minimum_nights                    0\n",
              "number_of_reviews                 0\n",
              "reviews_per_month                 0\n",
              "calculated_host_listings_count    0\n",
              "availability_365                  0\n",
              "dtype: int64"
            ]
          },
          "metadata": {
            "tags": []
          },
          "execution_count": 321
        }
      ]
    },
    {
      "cell_type": "markdown",
      "metadata": {
        "id": "a1hvzSswpbBZ",
        "colab_type": "text"
      },
      "source": [
        "#Eksperimen 1"
      ]
    },
    {
      "cell_type": "markdown",
      "metadata": {
        "id": "XPELTN0hj0gf",
        "colab_type": "text"
      },
      "source": [
        "##Data Exploration"
      ]
    },
    {
      "cell_type": "markdown",
      "metadata": {
        "id": "Bn7ht3NOJLQP",
        "colab_type": "text"
      },
      "source": [
        "\n",
        "\n",
        "*   Memperkecil jumlah kolom dengan melakukan pemilihan kolom\n",
        "\n"
      ]
    },
    {
      "cell_type": "code",
      "metadata": {
        "id": "z72wDZf4DoZa",
        "colab_type": "code",
        "outputId": "d84c9a55-4e92-4925-b49b-1821e1d879c7",
        "colab": {
          "base_uri": "https://localhost:8080/",
          "height": 206
        }
      },
      "source": [
        "pilih_kolom = ['price','minimum_nights','reviews_per_month','availability_365','room_type']\n",
        "df = data[pilih_kolom]\n",
        "df.tail()"
      ],
      "execution_count": 322,
      "outputs": [
        {
          "output_type": "execute_result",
          "data": {
            "text/html": [
              "<div>\n",
              "<style scoped>\n",
              "    .dataframe tbody tr th:only-of-type {\n",
              "        vertical-align: middle;\n",
              "    }\n",
              "\n",
              "    .dataframe tbody tr th {\n",
              "        vertical-align: top;\n",
              "    }\n",
              "\n",
              "    .dataframe thead th {\n",
              "        text-align: right;\n",
              "    }\n",
              "</style>\n",
              "<table border=\"1\" class=\"dataframe\">\n",
              "  <thead>\n",
              "    <tr style=\"text-align: right;\">\n",
              "      <th></th>\n",
              "      <th>price</th>\n",
              "      <th>minimum_nights</th>\n",
              "      <th>reviews_per_month</th>\n",
              "      <th>availability_365</th>\n",
              "      <th>room_type</th>\n",
              "    </tr>\n",
              "  </thead>\n",
              "  <tbody>\n",
              "    <tr>\n",
              "      <th>22547</th>\n",
              "      <td>60</td>\n",
              "      <td>2</td>\n",
              "      <td>0.0</td>\n",
              "      <td>314</td>\n",
              "      <td>Entire home/apt</td>\n",
              "    </tr>\n",
              "    <tr>\n",
              "      <th>22548</th>\n",
              "      <td>20</td>\n",
              "      <td>1</td>\n",
              "      <td>0.0</td>\n",
              "      <td>78</td>\n",
              "      <td>Shared room</td>\n",
              "    </tr>\n",
              "    <tr>\n",
              "      <th>22549</th>\n",
              "      <td>85</td>\n",
              "      <td>3</td>\n",
              "      <td>0.0</td>\n",
              "      <td>15</td>\n",
              "      <td>Entire home/apt</td>\n",
              "    </tr>\n",
              "    <tr>\n",
              "      <th>22550</th>\n",
              "      <td>99</td>\n",
              "      <td>1</td>\n",
              "      <td>0.0</td>\n",
              "      <td>6</td>\n",
              "      <td>Private room</td>\n",
              "    </tr>\n",
              "    <tr>\n",
              "      <th>22551</th>\n",
              "      <td>45</td>\n",
              "      <td>5</td>\n",
              "      <td>0.0</td>\n",
              "      <td>21</td>\n",
              "      <td>Private room</td>\n",
              "    </tr>\n",
              "  </tbody>\n",
              "</table>\n",
              "</div>"
            ],
            "text/plain": [
              "       price  minimum_nights  ...  availability_365        room_type\n",
              "22547     60               2  ...               314  Entire home/apt\n",
              "22548     20               1  ...                78      Shared room\n",
              "22549     85               3  ...                15  Entire home/apt\n",
              "22550     99               1  ...                 6     Private room\n",
              "22551     45               5  ...                21     Private room\n",
              "\n",
              "[5 rows x 5 columns]"
            ]
          },
          "metadata": {
            "tags": []
          },
          "execution_count": 322
        }
      ]
    },
    {
      "cell_type": "markdown",
      "metadata": {
        "id": "1vQ8UCQdJUrh",
        "colab_type": "text"
      },
      "source": [
        "\n",
        "\n",
        "*  Melihat relasi antar fitur dengan heatmap.\n",
        "\n"
      ]
    },
    {
      "cell_type": "code",
      "metadata": {
        "id": "Tsw1bm-CGAnW",
        "colab_type": "code",
        "colab": {
          "base_uri": "https://localhost:8080/",
          "height": 559
        },
        "outputId": "12aa6318-73dc-4d6c-aacd-64cb738f0819"
      },
      "source": [
        "corrmat = df.corr()\n",
        "f, ax = plt.subplots(figsize=(8, 8))\n",
        "sns.heatmap(corrmat, vmax=.8, square=True);"
      ],
      "execution_count": 323,
      "outputs": [
        {
          "output_type": "display_data",
          "data": {
            "image/png": "[encoded data removed]",
            "text/plain": [
              "<Figure size 576x576 with 2 Axes>"
            ]
          },
          "metadata": {
            "tags": []
          }
        }
      ]
    },
    {
      "cell_type": "code",
      "metadata": {
        "id": "sNpUVzpWGLJY",
        "colab_type": "code",
        "colab": {
          "base_uri": "https://localhost:8080/",
          "height": 381
        },
        "outputId": "f5033041-3cc8-4a4a-cdc2-08806d930e83"
      },
      "source": [
        "k =5 \n",
        "cols = corrmat.nlargest(k, 'minimum_nights')['minimum_nights'].index\n",
        "cm = np.corrcoef(df[cols].values.T)\n",
        "sns.set(font_scale=1.1)\n",
        "hm = sns.heatmap(cm, cbar=True, annot=True, square=True, fmt='.2f', annot_kws={'size': 8}, yticklabels=cols.values, xticklabels=cols.values)\n",
        "plt.show()"
      ],
      "execution_count": 324,
      "outputs": [
        {
          "output_type": "display_data",
          "data": {
            "image/png": "[encoded data removed]",
            "text/plain": [
              "<Figure size 432x288 with 2 Axes>"
            ]
          },
          "metadata": {
            "tags": []
          }
        }
      ]
    },
    {
      "cell_type": "markdown",
      "metadata": {
        "id": "oSqd4LMnJ5so",
        "colab_type": "text"
      },
      "source": [
        "\n",
        "\n",
        "*   Mendefinisikan y\n",
        "\n"
      ]
    },
    {
      "cell_type": "code",
      "metadata": {
        "id": "hmOnqezQTHqj",
        "colab_type": "code",
        "colab": {}
      },
      "source": [
        "y = df['minimum_nights']"
      ],
      "execution_count": 0,
      "outputs": []
    },
    {
      "cell_type": "markdown",
      "metadata": {
        "id": "sUt25aQFKrwf",
        "colab_type": "text"
      },
      "source": [
        "\n",
        "\n",
        "*   Melakukan proses encoding kolom\n",
        "\n"
      ]
    },
    {
      "cell_type": "code",
      "metadata": {
        "id": "D0h1dVzORfoR",
        "colab_type": "code",
        "outputId": "5c86ca48-5d08-4589-bd26-b58a6327b8be",
        "colab": {
          "base_uri": "https://localhost:8080/",
          "height": 206
        }
      },
      "source": [
        "encode_kolom = pd.get_dummies(df['room_type'])\n",
        "x = df.join(encode_kolom).drop('room_type', axis = 1)\n",
        "x.head()"
      ],
      "execution_count": 326,
      "outputs": [
        {
          "output_type": "execute_result",
          "data": {
            "text/html": [
              "<div>\n",
              "<style scoped>\n",
              "    .dataframe tbody tr th:only-of-type {\n",
              "        vertical-align: middle;\n",
              "    }\n",
              "\n",
              "    .dataframe tbody tr th {\n",
              "        vertical-align: top;\n",
              "    }\n",
              "\n",
              "    .dataframe thead th {\n",
              "        text-align: right;\n",
              "    }\n",
              "</style>\n",
              "<table border=\"1\" class=\"dataframe\">\n",
              "  <thead>\n",
              "    <tr style=\"text-align: right;\">\n",
              "      <th></th>\n",
              "      <th>price</th>\n",
              "      <th>minimum_nights</th>\n",
              "      <th>reviews_per_month</th>\n",
              "      <th>availability_365</th>\n",
              "      <th>Entire home/apt</th>\n",
              "      <th>Private room</th>\n",
              "      <th>Shared room</th>\n",
              "    </tr>\n",
              "  </thead>\n",
              "  <tbody>\n",
              "    <tr>\n",
              "      <th>0</th>\n",
              "      <td>60</td>\n",
              "      <td>4</td>\n",
              "      <td>3.76</td>\n",
              "      <td>141</td>\n",
              "      <td>1</td>\n",
              "      <td>0</td>\n",
              "      <td>0</td>\n",
              "    </tr>\n",
              "    <tr>\n",
              "      <th>1</th>\n",
              "      <td>17</td>\n",
              "      <td>2</td>\n",
              "      <td>1.42</td>\n",
              "      <td>0</td>\n",
              "      <td>0</td>\n",
              "      <td>1</td>\n",
              "      <td>0</td>\n",
              "    </tr>\n",
              "    <tr>\n",
              "      <th>2</th>\n",
              "      <td>90</td>\n",
              "      <td>62</td>\n",
              "      <td>1.25</td>\n",
              "      <td>220</td>\n",
              "      <td>1</td>\n",
              "      <td>0</td>\n",
              "      <td>0</td>\n",
              "    </tr>\n",
              "    <tr>\n",
              "      <th>3</th>\n",
              "      <td>26</td>\n",
              "      <td>5</td>\n",
              "      <td>0.39</td>\n",
              "      <td>297</td>\n",
              "      <td>0</td>\n",
              "      <td>1</td>\n",
              "      <td>0</td>\n",
              "    </tr>\n",
              "    <tr>\n",
              "      <th>4</th>\n",
              "      <td>42</td>\n",
              "      <td>2</td>\n",
              "      <td>1.75</td>\n",
              "      <td>26</td>\n",
              "      <td>0</td>\n",
              "      <td>1</td>\n",
              "      <td>0</td>\n",
              "    </tr>\n",
              "  </tbody>\n",
              "</table>\n",
              "</div>"
            ],
            "text/plain": [
              "   price  minimum_nights  ...  Private room  Shared room\n",
              "0     60               4  ...             0            0\n",
              "1     17               2  ...             1            0\n",
              "2     90              62  ...             0            0\n",
              "3     26               5  ...             1            0\n",
              "4     42               2  ...             1            0\n",
              "\n",
              "[5 rows x 7 columns]"
            ]
          },
          "metadata": {
            "tags": []
          },
          "execution_count": 326
        }
      ]
    },
    {
      "cell_type": "markdown",
      "metadata": {
        "id": "akeoElzvK6LW",
        "colab_type": "text"
      },
      "source": [
        "\n",
        "\n",
        "*   Mengecek kembali data (Null, NaN),(Missing Values), bila ada akan dihapus\n",
        "\n"
      ]
    },
    {
      "cell_type": "code",
      "metadata": {
        "id": "LW-rW5wX_nQF",
        "colab_type": "code",
        "colab": {
          "base_uri": "https://localhost:8080/",
          "height": 156
        },
        "outputId": "8c95a665-1e1e-4799-fa1a-7505a63e6fa5"
      },
      "source": [
        "x_null = round(100*(x.isnull().sum())/len(x), 2)\n",
        "x_null"
      ],
      "execution_count": 327,
      "outputs": [
        {
          "output_type": "execute_result",
          "data": {
            "text/plain": [
              "price                0.0\n",
              "minimum_nights       0.0\n",
              "reviews_per_month    0.0\n",
              "availability_365     0.0\n",
              "Entire home/apt      0.0\n",
              "Private room         0.0\n",
              "Shared room          0.0\n",
              "dtype: float64"
            ]
          },
          "metadata": {
            "tags": []
          },
          "execution_count": 327
        }
      ]
    },
    {
      "cell_type": "markdown",
      "metadata": {
        "id": "mX8IgyXbLL8v",
        "colab_type": "text"
      },
      "source": [
        "\n",
        "*   Mengecek tipe data kolom \n",
        "\n"
      ]
    },
    {
      "cell_type": "code",
      "metadata": {
        "id": "J-AjYUKr_vr-",
        "colab_type": "code",
        "colab": {
          "base_uri": "https://localhost:8080/",
          "height": 156
        },
        "outputId": "e9f7512b-3f7c-41db-91e1-9986037aa9c8"
      },
      "source": [
        "x.dtypes"
      ],
      "execution_count": 328,
      "outputs": [
        {
          "output_type": "execute_result",
          "data": {
            "text/plain": [
              "price                  int64\n",
              "minimum_nights         int64\n",
              "reviews_per_month    float64\n",
              "availability_365       int64\n",
              "Entire home/apt        uint8\n",
              "Private room           uint8\n",
              "Shared room            uint8\n",
              "dtype: object"
            ]
          },
          "metadata": {
            "tags": []
          },
          "execution_count": 328
        }
      ]
    },
    {
      "cell_type": "markdown",
      "metadata": {
        "id": "D1HnRzda5Te0",
        "colab_type": "text"
      },
      "source": [
        "##Classification"
      ]
    },
    {
      "cell_type": "markdown",
      "metadata": {
        "id": "DCrc0RgP-AWV",
        "colab_type": "text"
      },
      "source": [
        "Data splitting."
      ]
    },
    {
      "cell_type": "code",
      "metadata": {
        "id": "56JMUbpvTb8_",
        "colab_type": "code",
        "outputId": "1d6b2c10-6bb7-48be-c569-a9ce2e097103",
        "colab": {
          "base_uri": "https://localhost:8080/",
          "height": 86
        }
      },
      "source": [
        "x_train,x_test,y_train,y_test = train_test_split(x,y,test_size=0.33,random_state=42) \n",
        "\n",
        "print(\"x train shape:\",x_train.shape)\n",
        "print(\"x test shape:\",x_test.shape)\n",
        "print(\"y train shape:\",y_train.shape)\n",
        "print(\"y test shape:\",y_test.shape)\n"
      ],
      "execution_count": 329,
      "outputs": [
        {
          "output_type": "stream",
          "text": [
            "x train shape: (15109, 7)\n",
            "x test shape: (7443, 7)\n",
            "y train shape: (15109,)\n",
            "y test shape: (7443,)\n"
          ],
          "name": "stdout"
        }
      ]
    },
    {
      "cell_type": "markdown",
      "metadata": {
        "id": "Whn543HM7hRx",
        "colab_type": "text"
      },
      "source": [
        "#####KNN Classification"
      ]
    },
    {
      "cell_type": "markdown",
      "metadata": {
        "id": "iCftdJ40lruh",
        "colab_type": "text"
      },
      "source": [
        "Algoritma ini melakukan klasifikasi terhadap objek berdasarkan data pembeljaran yang jaraknya paling dekat dengan objek tersebut."
      ]
    },
    {
      "cell_type": "code",
      "metadata": {
        "id": "8kox90bbTpOv",
        "colab_type": "code",
        "outputId": "27ada3a8-0ce1-4327-90cf-b99922085a10",
        "colab": {
          "base_uri": "https://localhost:8080/",
          "height": 34
        }
      },
      "source": [
        "knn = KNeighborsClassifier(n_neighbors=3) \n",
        "knn.fit(x_train,y_train)\n",
        "print(\"KNN score\",knn.score(x_test,y_test)*100)\n"
      ],
      "execution_count": 330,
      "outputs": [
        {
          "output_type": "stream",
          "text": [
            "KNN score 65.47091226655918\n"
          ],
          "name": "stdout"
        }
      ]
    },
    {
      "cell_type": "code",
      "metadata": {
        "id": "qMxUWd6eTtr4",
        "colab_type": "code",
        "outputId": "8378f6a3-2759-497b-e0b9-200940ad6561",
        "colab": {
          "base_uri": "https://localhost:8080/",
          "height": 288
        }
      },
      "source": [
        "neighbors_list = []\n",
        "\n",
        "for i in range(1,50):\n",
        "    knn1 = KNeighborsClassifier(n_neighbors = i)\n",
        "    knn1.fit(x_train,y_train)\n",
        "    neighbors_list.append(knn1.score(x_test,y_test))\n",
        "\n",
        "plt.plot(range(1,50),neighbors_list)\n",
        "plt.xlabel(\"k values\")\n",
        "plt.ylabel(\"accuracy\")\n",
        "plt.show()"
      ],
      "execution_count": 331,
      "outputs": [
        {
          "output_type": "display_data",
          "data": {
            "image/png": "[encoded data removed]",
            "text/plain": [
              "<Figure size 432x288 with 1 Axes>"
            ]
          },
          "metadata": {
            "tags": []
          }
        }
      ]
    },
    {
      "cell_type": "markdown",
      "metadata": {
        "id": "wGhLxsZ4591q",
        "colab_type": "text"
      },
      "source": [
        "#####Naive Bayes"
      ]
    },
    {
      "cell_type": "markdown",
      "metadata": {
        "id": "oCisc-pdmuX4",
        "colab_type": "text"
      },
      "source": [
        "Algoritman ini untuk memprediksi data yang tidak diketahui untuk di klasifikasi dan prosesnya lebih cepat daripada algoritma laiinya. Dan algoritma ini bekerja pada probabilitas teorema bayes."
      ]
    },
    {
      "cell_type": "code",
      "metadata": {
        "id": "irP-HPCVT7bl",
        "colab_type": "code",
        "outputId": "7549a687-5a66-4527-f3d9-215e39a6193c",
        "colab": {
          "base_uri": "https://localhost:8080/",
          "height": 34
        }
      },
      "source": [
        "nb = GaussianNB()\n",
        "nb.fit(x_train,y_train)\n",
        "print(\"Naive Boyes score\",nb.score(x_test,y_test))"
      ],
      "execution_count": 332,
      "outputs": [
        {
          "output_type": "stream",
          "text": [
            "Naive Boyes score 0.9962380760446057\n"
          ],
          "name": "stdout"
        }
      ]
    },
    {
      "cell_type": "markdown",
      "metadata": {
        "id": "-g_kqHN26BwD",
        "colab_type": "text"
      },
      "source": [
        "#####Decision Tree Classification"
      ]
    },
    {
      "cell_type": "markdown",
      "metadata": {
        "id": "WstuS_0knY47",
        "colab_type": "text"
      },
      "source": [
        "Algoritma ini bekerja secara plot. Dimana plot dibagi menjadi subplot. Model prediksi dari algoritma ini menggunakan struktur pohon atau struktur berhirarki."
      ]
    },
    {
      "cell_type": "code",
      "metadata": {
        "id": "Cl4DoIRoUAVh",
        "colab_type": "code",
        "outputId": "f9002bdb-ef91-4ebd-8abc-d75d5a1e3fac",
        "colab": {
          "base_uri": "https://localhost:8080/",
          "height": 34
        }
      },
      "source": [
        "dt = DecisionTreeClassifier()\n",
        "dt.fit(x_train,y_train)\n",
        "print(\"Decision Tree Score\",dt.score(x_test,y_test))\n",
        "\n"
      ],
      "execution_count": 333,
      "outputs": [
        {
          "output_type": "stream",
          "text": [
            "Decision Tree Score 0.9979846835953244\n"
          ],
          "name": "stdout"
        }
      ]
    },
    {
      "cell_type": "markdown",
      "metadata": {
        "id": "_n2VDqyJ6Hpd",
        "colab_type": "text"
      },
      "source": [
        "#####Random Forest Classification"
      ]
    },
    {
      "cell_type": "markdown",
      "metadata": {
        "id": "aJJEa3zPnw50",
        "colab_type": "text"
      },
      "source": [
        "Algoritma ini adalah model pembelajaran ensemble. Dibutuhkan jumlah Decision Tree untuk satu proses algoritmanya. Klasifikasi algoritma ini dilakukan melalui penggabungan pohon(tree) dengan melakukan training pada sampel yang dimiliki."
      ]
    },
    {
      "cell_type": "code",
      "metadata": {
        "id": "BnBl4aYdUEQ4",
        "colab_type": "code",
        "outputId": "3095b12e-c845-41fc-c711-51ae26c002f2",
        "colab": {
          "base_uri": "https://localhost:8080/",
          "height": 34
        }
      },
      "source": [
        "rf = RandomForestClassifier(n_estimators = 10, random_state=1)\n",
        "rf.fit(x_train,y_train)\n",
        "print(\"Random Forest Classification Score\",rf.score(x_test,y_test))\n",
        "\n"
      ],
      "execution_count": 334,
      "outputs": [
        {
          "output_type": "stream",
          "text": [
            "Random Forest Classification Score 0.9266424828698105\n"
          ],
          "name": "stdout"
        }
      ]
    },
    {
      "cell_type": "markdown",
      "metadata": {
        "id": "dQbc4NYrHCGg",
        "colab_type": "text"
      },
      "source": [
        "##Comparison of Algorithm Performance"
      ]
    },
    {
      "cell_type": "code",
      "metadata": {
        "id": "Lmi5KJKhHFnS",
        "colab_type": "code",
        "colab": {
          "base_uri": "https://localhost:8080/",
          "height": 86
        },
        "outputId": "ebe8762b-433c-4363-ab2c-23e14cbea063"
      },
      "source": [
        "print(\"KNN score 1:\",knn.score(x_test,y_test)*100)\n",
        "print(\"Naive Boyes score 1:\",nb.score(x_test,y_test)*100) \n",
        "print(\"Decision Tree Score 1:\",dt.score(x_test,y_test)*100)\n",
        "print(\"Random Forest Classification Score 1:\",rf.score(x_test,y_test)*100)"
      ],
      "execution_count": 335,
      "outputs": [
        {
          "output_type": "stream",
          "text": [
            "KNN score 1: 65.47091226655918\n",
            "Naive Boyes score 1: 99.62380760446057\n",
            "Decision Tree Score 1: 99.79846835953245\n",
            "Random Forest Classification Score 1: 92.66424828698105\n"
          ],
          "name": "stdout"
        }
      ]
    },
    {
      "cell_type": "markdown",
      "metadata": {
        "id": "a71b0L4Vppn4",
        "colab_type": "text"
      },
      "source": [
        "#Eksperimen 2"
      ]
    },
    {
      "cell_type": "markdown",
      "metadata": {
        "id": "9erGpbwrptdd",
        "colab_type": "text"
      },
      "source": [
        "##Data Exploration"
      ]
    },
    {
      "cell_type": "markdown",
      "metadata": {
        "id": "T6JVzAr_qLlr",
        "colab_type": "text"
      },
      "source": [
        "\n",
        "\n",
        "*   Memperkecil jumlah kolom dengan melakukan pemilihan kolom\n"
      ]
    },
    {
      "cell_type": "code",
      "metadata": {
        "id": "QPGJFMIdqksQ",
        "colab_type": "code",
        "colab": {
          "base_uri": "https://localhost:8080/",
          "height": 206
        },
        "outputId": "bbc52e39-a189-467a-8b75-2dc6c8f32985"
      },
      "source": [
        "new_pilih_kolom = ['minimum_nights','reviews_per_month','availability_365','room_type']\n",
        "new_df = data[new_pilih_kolom]\n",
        "new_df.tail()"
      ],
      "execution_count": 336,
      "outputs": [
        {
          "output_type": "execute_result",
          "data": {
            "text/html": [
              "<div>\n",
              "<style scoped>\n",
              "    .dataframe tbody tr th:only-of-type {\n",
              "        vertical-align: middle;\n",
              "    }\n",
              "\n",
              "    .dataframe tbody tr th {\n",
              "        vertical-align: top;\n",
              "    }\n",
              "\n",
              "    .dataframe thead th {\n",
              "        text-align: right;\n",
              "    }\n",
              "</style>\n",
              "<table border=\"1\" class=\"dataframe\">\n",
              "  <thead>\n",
              "    <tr style=\"text-align: right;\">\n",
              "      <th></th>\n",
              "      <th>minimum_nights</th>\n",
              "      <th>reviews_per_month</th>\n",
              "      <th>availability_365</th>\n",
              "      <th>room_type</th>\n",
              "    </tr>\n",
              "  </thead>\n",
              "  <tbody>\n",
              "    <tr>\n",
              "      <th>22547</th>\n",
              "      <td>2</td>\n",
              "      <td>0.0</td>\n",
              "      <td>314</td>\n",
              "      <td>Entire home/apt</td>\n",
              "    </tr>\n",
              "    <tr>\n",
              "      <th>22548</th>\n",
              "      <td>1</td>\n",
              "      <td>0.0</td>\n",
              "      <td>78</td>\n",
              "      <td>Shared room</td>\n",
              "    </tr>\n",
              "    <tr>\n",
              "      <th>22549</th>\n",
              "      <td>3</td>\n",
              "      <td>0.0</td>\n",
              "      <td>15</td>\n",
              "      <td>Entire home/apt</td>\n",
              "    </tr>\n",
              "    <tr>\n",
              "      <th>22550</th>\n",
              "      <td>1</td>\n",
              "      <td>0.0</td>\n",
              "      <td>6</td>\n",
              "      <td>Private room</td>\n",
              "    </tr>\n",
              "    <tr>\n",
              "      <th>22551</th>\n",
              "      <td>5</td>\n",
              "      <td>0.0</td>\n",
              "      <td>21</td>\n",
              "      <td>Private room</td>\n",
              "    </tr>\n",
              "  </tbody>\n",
              "</table>\n",
              "</div>"
            ],
            "text/plain": [
              "       minimum_nights  reviews_per_month  availability_365        room_type\n",
              "22547               2                0.0               314  Entire home/apt\n",
              "22548               1                0.0                78      Shared room\n",
              "22549               3                0.0                15  Entire home/apt\n",
              "22550               1                0.0                 6     Private room\n",
              "22551               5                0.0                21     Private room"
            ]
          },
          "metadata": {
            "tags": []
          },
          "execution_count": 336
        }
      ]
    },
    {
      "cell_type": "markdown",
      "metadata": {
        "id": "O-eO0DUFsJCk",
        "colab_type": "text"
      },
      "source": [
        "\n",
        "\n",
        "*   Melihat relasi antar fitur dengan heatmap\n",
        "\n"
      ]
    },
    {
      "cell_type": "code",
      "metadata": {
        "id": "cYkU_mUpsIWl",
        "colab_type": "code",
        "colab": {
          "base_uri": "https://localhost:8080/",
          "height": 471
        },
        "outputId": "eab8110d-f122-4353-9943-a87187966dc7"
      },
      "source": [
        "new_corrmat = new_df.corr()\n",
        "new_f, new_ax = plt.subplots(figsize=(8, 8))\n",
        "sns.heatmap(new_corrmat, vmax=.8, square=True);"
      ],
      "execution_count": 337,
      "outputs": [
        {
          "output_type": "display_data",
          "data": {
            "image/png": "[encoded data removed]",
            "text/plain": [
              "<Figure size 576x576 with 2 Axes>"
            ]
          },
          "metadata": {
            "tags": []
          }
        }
      ]
    },
    {
      "cell_type": "code",
      "metadata": {
        "id": "DKTqERDFsLoc",
        "colab_type": "code",
        "colab": {
          "base_uri": "https://localhost:8080/",
          "height": 381
        },
        "outputId": "1278b64d-ef69-4321-cbaf-fc27ff1f6722"
      },
      "source": [
        "k =4\n",
        "cols = new_corrmat.nlargest(k, 'minimum_nights')['minimum_nights'].index\n",
        "cm = np.corrcoef(new_df[cols].values.T)\n",
        "sns.set(font_scale=1.1)\n",
        "hm = sns.heatmap(cm, cbar=True, annot=True, square=True, fmt='.2f', annot_kws={'size': 8}, yticklabels=cols.values, xticklabels=cols.values)\n",
        "plt.show()"
      ],
      "execution_count": 339,
      "outputs": [
        {
          "output_type": "display_data",
          "data": {
            "image/png": "[encoded data removed]",
            "text/plain": [
              "<Figure size 432x288 with 2 Axes>"
            ]
          },
          "metadata": {
            "tags": []
          }
        }
      ]
    },
    {
      "cell_type": "markdown",
      "metadata": {
        "id": "ocfXeqbqtWEt",
        "colab_type": "text"
      },
      "source": [
        "\n",
        "\n",
        "*   Mendefinisikan new_y\n",
        "\n"
      ]
    },
    {
      "cell_type": "code",
      "metadata": {
        "id": "onLZCwG2tafR",
        "colab_type": "code",
        "colab": {}
      },
      "source": [
        "new_y = new_df['minimum_nights']"
      ],
      "execution_count": 0,
      "outputs": []
    },
    {
      "cell_type": "markdown",
      "metadata": {
        "id": "Fhq-2Xm6pyxE",
        "colab_type": "text"
      },
      "source": [
        "##Classification"
      ]
    },
    {
      "cell_type": "markdown",
      "metadata": {
        "id": "y2mDpOp8toUW",
        "colab_type": "text"
      },
      "source": [
        "\n",
        "\n",
        "Data splitting\n",
        "\n"
      ]
    },
    {
      "cell_type": "code",
      "metadata": {
        "id": "G3P5QucTtw9f",
        "colab_type": "code",
        "colab": {
          "base_uri": "https://localhost:8080/",
          "height": 86
        },
        "outputId": "c22d5da9-6f04-48f7-aef6-0ef34104cd26"
      },
      "source": [
        "x_train,x_test,y_train,y_test = train_test_split(x,new_y,test_size=0.33,random_state=42) \n",
        "\n",
        "print(\"x train shape:\",x_train.shape)\n",
        "print(\"x test shape:\",x_test.shape)\n",
        "print(\"y train shape:\",y_train.shape)\n",
        "print(\"y test shape:\",y_test.shape)"
      ],
      "execution_count": 341,
      "outputs": [
        {
          "output_type": "stream",
          "text": [
            "x train shape: (15109, 7)\n",
            "x test shape: (7443, 7)\n",
            "y train shape: (15109,)\n",
            "y test shape: (7443,)\n"
          ],
          "name": "stdout"
        }
      ]
    },
    {
      "cell_type": "markdown",
      "metadata": {
        "id": "6UfKnUIUHcgS",
        "colab_type": "text"
      },
      "source": [
        "#####KNN Classification"
      ]
    },
    {
      "cell_type": "markdown",
      "metadata": {
        "id": "r4YyuDdWHme2",
        "colab_type": "text"
      },
      "source": [
        "Algoritma ini melakukan klasifikasi terhadap objek berdasarkan data pembeljaran yang jaraknya paling dekat dengan objek tersebut."
      ]
    },
    {
      "cell_type": "code",
      "metadata": {
        "id": "mKSinHCR0JsM",
        "colab_type": "code",
        "colab": {
          "base_uri": "https://localhost:8080/",
          "height": 34
        },
        "outputId": "ca8a9241-bbe9-4869-c26b-def98713fccb"
      },
      "source": [
        "new_knn = KNeighborsClassifier(n_neighbors=3) \n",
        "new_knn.fit(x_train,y_train)\n",
        "print(\"KNN score\",new_knn.score(x_test,y_test)*100)"
      ],
      "execution_count": 342,
      "outputs": [
        {
          "output_type": "stream",
          "text": [
            "KNN score 65.47091226655918\n"
          ],
          "name": "stdout"
        }
      ]
    },
    {
      "cell_type": "code",
      "metadata": {
        "id": "Xcmz8tGe0Mnd",
        "colab_type": "code",
        "colab": {
          "base_uri": "https://localhost:8080/",
          "height": 288
        },
        "outputId": "67823c1a-37ff-47c9-bcb9-af5f2f1e4f1c"
      },
      "source": [
        "neighbors_list = []\n",
        "\n",
        "for i in range(1,50):\n",
        "    knn1 = KNeighborsClassifier(n_neighbors = i)\n",
        "    knn1.fit(x_train,y_train)\n",
        "    neighbors_list.append(knn1.score(x_test,y_test))\n",
        "\n",
        "plt.plot(range(1,50),neighbors_list)\n",
        "plt.xlabel(\"k values\")\n",
        "plt.ylabel(\"accuracy\")\n",
        "plt.show()"
      ],
      "execution_count": 343,
      "outputs": [
        {
          "output_type": "display_data",
          "data": {
            "image/png": "[encoded data removed]",
            "text/plain": [
              "<Figure size 432x288 with 1 Axes>"
            ]
          },
          "metadata": {
            "tags": []
          }
        }
      ]
    },
    {
      "cell_type": "markdown",
      "metadata": {
        "id": "kwfsjDort_Z0",
        "colab_type": "text"
      },
      "source": [
        "#####Naive Bayes"
      ]
    },
    {
      "cell_type": "markdown",
      "metadata": {
        "id": "c5e33HFAHuQu",
        "colab_type": "text"
      },
      "source": [
        "Algoritman ini untuk memprediksi data yang tidak diketahui untuk di klasifikasi dan prosesnya lebih cepat daripada algoritma laiinya. Dan algoritma ini bekerja pada probabilitas teorema bayes."
      ]
    },
    {
      "cell_type": "code",
      "metadata": {
        "id": "Ct60fk82uBXm",
        "colab_type": "code",
        "colab": {
          "base_uri": "https://localhost:8080/",
          "height": 34
        },
        "outputId": "03d25906-c96b-4343-89c7-68376450f4d4"
      },
      "source": [
        "new_nb = GaussianNB()\n",
        "new_nb.fit(x_train,y_train)\n",
        "print(\"Naive Boyes score\",new_nb.score(x_test,y_test))"
      ],
      "execution_count": 344,
      "outputs": [
        {
          "output_type": "stream",
          "text": [
            "Naive Boyes score 0.9962380760446057\n"
          ],
          "name": "stdout"
        }
      ]
    },
    {
      "cell_type": "markdown",
      "metadata": {
        "id": "7hUiaahgH8Z1",
        "colab_type": "text"
      },
      "source": [
        "#####Decision Tree Classification"
      ]
    },
    {
      "cell_type": "markdown",
      "metadata": {
        "id": "66P_mRX7H_FH",
        "colab_type": "text"
      },
      "source": [
        "Algoritma ini bekerja secara plot. Dimana plot dibagi menjadi subplot. Model prediksi dari algoritma ini menggunakan struktur pohon atau struktur berhirarki."
      ]
    },
    {
      "cell_type": "code",
      "metadata": {
        "id": "oJsCyDiP0juw",
        "colab_type": "code",
        "colab": {
          "base_uri": "https://localhost:8080/",
          "height": 34
        },
        "outputId": "ca9cec72-d8b3-4bc8-c603-492b3401d5b5"
      },
      "source": [
        "new_dt = DecisionTreeClassifier()\n",
        "new_dt.fit(x_train,y_train)\n",
        "print(\"Decision Tree Score\",new_dt.score(x_test,y_test))"
      ],
      "execution_count": 345,
      "outputs": [
        {
          "output_type": "stream",
          "text": [
            "Decision Tree Score 0.9967754937525192\n"
          ],
          "name": "stdout"
        }
      ]
    },
    {
      "cell_type": "markdown",
      "metadata": {
        "id": "HEZ-yqZrIDNl",
        "colab_type": "text"
      },
      "source": [
        "#####Random Forest Classification"
      ]
    },
    {
      "cell_type": "markdown",
      "metadata": {
        "id": "uu8HcBKMIGYO",
        "colab_type": "text"
      },
      "source": [
        "Algoritma ini adalah model pembelajaran ensemble. Dibutuhkan jumlah Decision Tree untuk satu proses algoritmanya. Klasifikasi algoritma ini dilakukan melalui penggabungan pohon(tree) dengan melakukan training pada sampel yang dimiliki."
      ]
    },
    {
      "cell_type": "code",
      "metadata": {
        "id": "m1qGxo_m0sbX",
        "colab_type": "code",
        "colab": {
          "base_uri": "https://localhost:8080/",
          "height": 34
        },
        "outputId": "29daeafd-5b76-4961-dbd8-5009f02e644c"
      },
      "source": [
        "new_rf = RandomForestClassifier(n_estimators = 10, random_state=1)\n",
        "new_rf.fit(x_train,y_train)\n",
        "print(\"Random Forest Classification Score\",new_rf.score(x_test,y_test))"
      ],
      "execution_count": 346,
      "outputs": [
        {
          "output_type": "stream",
          "text": [
            "Random Forest Classification Score 0.9266424828698105\n"
          ],
          "name": "stdout"
        }
      ]
    },
    {
      "cell_type": "markdown",
      "metadata": {
        "id": "6FV8yacc6RgR",
        "colab_type": "text"
      },
      "source": [
        "##Comparison of Algorithm Performance"
      ]
    },
    {
      "cell_type": "code",
      "metadata": {
        "id": "jyH2kl3FUTPZ",
        "colab_type": "code",
        "outputId": "f3ea2506-dec9-486e-c730-5229ed8e720a",
        "colab": {
          "base_uri": "https://localhost:8080/",
          "height": 86
        }
      },
      "source": [
        "print(\"KNN score 2:\",new_knn.score(x_test,y_test)*100)\n",
        "print(\"Naive Boyes score 2:\",new_nb.score(x_test,y_test)*100)\n",
        "print(\"Decision Tree Score 2:\",new_dt.score(x_test,y_test)*100)\n",
        "print(\"Random Forest Classification Score 2:\",new_rf.score(x_test,y_test)*100)"
      ],
      "execution_count": 347,
      "outputs": [
        {
          "output_type": "stream",
          "text": [
            "KNN score 2: 65.47091226655918\n",
            "Naive Boyes score 2: 99.62380760446057\n",
            "Decision Tree Score 2: 99.67754937525191\n",
            "Random Forest Classification Score 2: 92.66424828698105\n"
          ],
          "name": "stdout"
        }
      ]
    },
    {
      "cell_type": "markdown",
      "metadata": {
        "id": "M9dFEEwCoIW6",
        "colab_type": "text"
      },
      "source": [
        "#Kesimpulan\n",
        "\n",
        "*   Dalam proses Classification, harus terjadi beberapa modifikasi dataframe.\n",
        "*   Hasil dari Classification ditentukan oleh fitur yang kita pilih,dataset yang kita jadikan data training maupun data testing. Dan juga text size dan random state juga mempengaruhi kinerja proses klasifikasi.\n",
        "*   Data yang Unique yang mempunyai hubungan sangat mempengaruhi hasil dari proses klasifikasi.\n",
        "*   Score akurasi dari beberapa Model Classification berbeda-beda, bisa dilihat di **Comparison of Algorithm Performance**, dengan rentang score akurasi 65%  sampai dengan 99% sekian.\n",
        "*   Berbagai macam settingan pada model klasifikasi juga mempengaruhi score akurasi.\n",
        "*   Model klasifikasi yang lebih baik score akurasinya yaitu **Decision Tree Classification**.\n",
        "\n"
      ]
    }
  ]
}